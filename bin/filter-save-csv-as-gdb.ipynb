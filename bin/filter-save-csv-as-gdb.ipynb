{
 "cells": [
  {
   "cell_type": "code",
   "execution_count": 3,
   "id": "02aa6924-be81-4024-bd95-1897f4fe18ce",
   "metadata": {},
   "outputs": [],
   "source": [
    "from concurrent.futures import ProcessPoolExecutor\n",
    "from datetime import date, datetime, timedelta\n",
    "import time\n",
    "\n",
    "import geopandas as gpd\n",
    "import pandas as pd\n",
    "import os\n",
    "import numpy as np\n",
    "from tabulate import tabulate\n",
    "from prettytable import PrettyTable\n",
    "import fiona\n",
    "\n",
    "import matplotlib.pyplot as plt\n",
    "import seaborn as sns\n",
    "\n",
    "import rtree\n",
    "\n",
    "from PIL import Image\n",
    "\n",
    "import brewer2mpl\n",
    "\n",
    "import requests\n",
    "import zipfile\n",
    "\n",
    "from shapely.geometry import Point, Polygon, MultiPolygon, MultiLineString\n",
    "from shapely.ops import unary_union\n",
    "from shapely.wkt import loads\n",
    "import rasterio as rio\n",
    "import rasterio.mask\n",
    "from rasterio.plot import show\n",
    "from shapely.geometry import mapping\n",
    "from rasterio.transform import Affine\n"
   ]
  },
  {
   "cell_type": "code",
   "execution_count": 26,
   "id": "425dc3f5-7e97-4cec-bbb1-c8ba2dda958f",
   "metadata": {},
   "outputs": [
    {
     "ename": "ValueError",
     "evalue": "GeoDataFrame does not support multiple columns using the geometry column name 'geometry'.",
     "output_type": "error",
     "traceback": [
      "\u001b[0;31m---------------------------------------------------------------------------\u001b[0m",
      "\u001b[0;31mValueError\u001b[0m                                Traceback (most recent call last)",
      "Cell \u001b[0;32mIn[26], line 1\u001b[0m\n\u001b[0;32m----> 1\u001b[0m western_mass_2021_dissolve \u001b[38;5;241m=\u001b[39m \u001b[43mgpd\u001b[49m\u001b[38;5;241;43m.\u001b[39;49m\u001b[43mread_file\u001b[49m\u001b[43m(\u001b[49m\u001b[38;5;124;43m'\u001b[39;49m\u001b[38;5;124;43m../results/csv/01_19_2024/dissolve_split/western_mass_2021_dissolve_split.csv\u001b[39;49m\u001b[38;5;124;43m'\u001b[39;49m\u001b[43m)\u001b[49m \u001b[38;5;66;03m#GEOM_POSSIBLE_NAMES=\"geometry\", \u001b[39;00m\n\u001b[1;32m      2\u001b[0m                                           \u001b[38;5;66;03m#) #KEEP_GEOM_COLUMNS=\"NO\")\u001b[39;00m\n\u001b[1;32m      4\u001b[0m western_mass_2019_dissolve \u001b[38;5;241m=\u001b[39m gpd\u001b[38;5;241m.\u001b[39mread_file(\u001b[38;5;124m'\u001b[39m\u001b[38;5;124m../results/csv/01_19_2024/dissolve_split/western_mass_2019_dissolve_split.csv\u001b[39m\u001b[38;5;124m'\u001b[39m) \u001b[38;5;66;03m#,\u001b[39;00m\n",
      "File \u001b[0;32m~/nars/lib/python3.11/site-packages/geopandas/io/file.py:297\u001b[0m, in \u001b[0;36m_read_file\u001b[0;34m(filename, bbox, mask, rows, engine, **kwargs)\u001b[0m\n\u001b[1;32m    294\u001b[0m     \u001b[38;5;28;01melse\u001b[39;00m:\n\u001b[1;32m    295\u001b[0m         path_or_bytes \u001b[38;5;241m=\u001b[39m filename\n\u001b[0;32m--> 297\u001b[0m     \u001b[38;5;28;01mreturn\u001b[39;00m \u001b[43m_read_file_fiona\u001b[49m\u001b[43m(\u001b[49m\n\u001b[1;32m    298\u001b[0m \u001b[43m        \u001b[49m\u001b[43mpath_or_bytes\u001b[49m\u001b[43m,\u001b[49m\u001b[43m \u001b[49m\u001b[43mfrom_bytes\u001b[49m\u001b[43m,\u001b[49m\u001b[43m \u001b[49m\u001b[43mbbox\u001b[49m\u001b[38;5;241;43m=\u001b[39;49m\u001b[43mbbox\u001b[49m\u001b[43m,\u001b[49m\u001b[43m \u001b[49m\u001b[43mmask\u001b[49m\u001b[38;5;241;43m=\u001b[39;49m\u001b[43mmask\u001b[49m\u001b[43m,\u001b[49m\u001b[43m \u001b[49m\u001b[43mrows\u001b[49m\u001b[38;5;241;43m=\u001b[39;49m\u001b[43mrows\u001b[49m\u001b[43m,\u001b[49m\u001b[43m \u001b[49m\u001b[38;5;241;43m*\u001b[39;49m\u001b[38;5;241;43m*\u001b[39;49m\u001b[43mkwargs\u001b[49m\n\u001b[1;32m    299\u001b[0m \u001b[43m    \u001b[49m\u001b[43m)\u001b[49m\n\u001b[1;32m    301\u001b[0m \u001b[38;5;28;01melse\u001b[39;00m:\n\u001b[1;32m    302\u001b[0m     \u001b[38;5;28;01mraise\u001b[39;00m \u001b[38;5;167;01mValueError\u001b[39;00m(\u001b[38;5;124mf\u001b[39m\u001b[38;5;124m\"\u001b[39m\u001b[38;5;124munknown engine \u001b[39m\u001b[38;5;124m'\u001b[39m\u001b[38;5;132;01m{\u001b[39;00mengine\u001b[38;5;132;01m}\u001b[39;00m\u001b[38;5;124m'\u001b[39m\u001b[38;5;124m\"\u001b[39m)\n",
      "File \u001b[0;32m~/nars/lib/python3.11/site-packages/geopandas/io/file.py:395\u001b[0m, in \u001b[0;36m_read_file_fiona\u001b[0;34m(path_or_bytes, from_bytes, bbox, mask, rows, where, **kwargs)\u001b[0m\n\u001b[1;32m    391\u001b[0m     df \u001b[38;5;241m=\u001b[39m pd\u001b[38;5;241m.\u001b[39mDataFrame(\n\u001b[1;32m    392\u001b[0m         [record[\u001b[38;5;124m\"\u001b[39m\u001b[38;5;124mproperties\u001b[39m\u001b[38;5;124m\"\u001b[39m] \u001b[38;5;28;01mfor\u001b[39;00m record \u001b[38;5;129;01min\u001b[39;00m f_filt], columns\u001b[38;5;241m=\u001b[39mcolumns\n\u001b[1;32m    393\u001b[0m     )\n\u001b[1;32m    394\u001b[0m \u001b[38;5;28;01melse\u001b[39;00m:\n\u001b[0;32m--> 395\u001b[0m     df \u001b[38;5;241m=\u001b[39m \u001b[43mGeoDataFrame\u001b[49m\u001b[38;5;241;43m.\u001b[39;49m\u001b[43mfrom_features\u001b[49m\u001b[43m(\u001b[49m\n\u001b[1;32m    396\u001b[0m \u001b[43m        \u001b[49m\u001b[43mf_filt\u001b[49m\u001b[43m,\u001b[49m\u001b[43m \u001b[49m\u001b[43mcrs\u001b[49m\u001b[38;5;241;43m=\u001b[39;49m\u001b[43mcrs\u001b[49m\u001b[43m,\u001b[49m\u001b[43m \u001b[49m\u001b[43mcolumns\u001b[49m\u001b[38;5;241;43m=\u001b[39;49m\u001b[43mcolumns\u001b[49m\u001b[43m \u001b[49m\u001b[38;5;241;43m+\u001b[39;49m\u001b[43m \u001b[49m\u001b[43m[\u001b[49m\u001b[38;5;124;43m\"\u001b[39;49m\u001b[38;5;124;43mgeometry\u001b[39;49m\u001b[38;5;124;43m\"\u001b[39;49m\u001b[43m]\u001b[49m\n\u001b[1;32m    397\u001b[0m \u001b[43m    \u001b[49m\u001b[43m)\u001b[49m\n\u001b[1;32m    398\u001b[0m \u001b[38;5;28;01mfor\u001b[39;00m k \u001b[38;5;129;01min\u001b[39;00m datetime_fields:\n\u001b[1;32m    399\u001b[0m     as_dt \u001b[38;5;241m=\u001b[39m pd\u001b[38;5;241m.\u001b[39mto_datetime(df[k], errors\u001b[38;5;241m=\u001b[39m\u001b[38;5;124m\"\u001b[39m\u001b[38;5;124mignore\u001b[39m\u001b[38;5;124m\"\u001b[39m)\n",
      "File \u001b[0;32m~/nars/lib/python3.11/site-packages/geopandas/geodataframe.py:649\u001b[0m, in \u001b[0;36mGeoDataFrame.from_features\u001b[0;34m(cls, features, crs, columns)\u001b[0m\n\u001b[1;32m    647\u001b[0m     row\u001b[38;5;241m.\u001b[39mupdate(properties)\n\u001b[1;32m    648\u001b[0m     rows\u001b[38;5;241m.\u001b[39mappend(row)\n\u001b[0;32m--> 649\u001b[0m \u001b[38;5;28;01mreturn\u001b[39;00m \u001b[38;5;28;43mcls\u001b[39;49m\u001b[43m(\u001b[49m\u001b[43mrows\u001b[49m\u001b[43m,\u001b[49m\u001b[43m \u001b[49m\u001b[43mcolumns\u001b[49m\u001b[38;5;241;43m=\u001b[39;49m\u001b[43mcolumns\u001b[49m\u001b[43m,\u001b[49m\u001b[43m \u001b[49m\u001b[43mcrs\u001b[49m\u001b[38;5;241;43m=\u001b[39;49m\u001b[43mcrs\u001b[49m\u001b[43m)\u001b[49m\n",
      "File \u001b[0;32m~/nars/lib/python3.11/site-packages/geopandas/geodataframe.py:163\u001b[0m, in \u001b[0;36mGeoDataFrame.__init__\u001b[0;34m(self, data, geometry, crs, *args, **kwargs)\u001b[0m\n\u001b[1;32m    154\u001b[0m \u001b[38;5;28;01mif\u001b[39;00m (\n\u001b[1;32m    155\u001b[0m     geometry \u001b[38;5;129;01mis\u001b[39;00m \u001b[38;5;28;01mNone\u001b[39;00m\n\u001b[1;32m    156\u001b[0m     \u001b[38;5;129;01mand\u001b[39;00m \u001b[38;5;28mself\u001b[39m\u001b[38;5;241m.\u001b[39mcolumns\u001b[38;5;241m.\u001b[39mnlevels \u001b[38;5;241m==\u001b[39m \u001b[38;5;241m1\u001b[39m\n\u001b[0;32m   (...)\u001b[0m\n\u001b[1;32m    160\u001b[0m     \u001b[38;5;66;03m# self[\"geometry\"] is a gdf and constructor gets recursively recalled\u001b[39;00m\n\u001b[1;32m    161\u001b[0m     \u001b[38;5;66;03m# by pandas internals trying to access this\u001b[39;00m\n\u001b[1;32m    162\u001b[0m     \u001b[38;5;28;01mif\u001b[39;00m (\u001b[38;5;28mself\u001b[39m\u001b[38;5;241m.\u001b[39mcolumns \u001b[38;5;241m==\u001b[39m \u001b[38;5;124m\"\u001b[39m\u001b[38;5;124mgeometry\u001b[39m\u001b[38;5;124m\"\u001b[39m)\u001b[38;5;241m.\u001b[39msum() \u001b[38;5;241m>\u001b[39m \u001b[38;5;241m1\u001b[39m:\n\u001b[0;32m--> 163\u001b[0m         \u001b[38;5;28;01mraise\u001b[39;00m \u001b[38;5;167;01mValueError\u001b[39;00m(\n\u001b[1;32m    164\u001b[0m             \u001b[38;5;124m\"\u001b[39m\u001b[38;5;124mGeoDataFrame does not support multiple columns \u001b[39m\u001b[38;5;124m\"\u001b[39m\n\u001b[1;32m    165\u001b[0m             \u001b[38;5;124m\"\u001b[39m\u001b[38;5;124musing the geometry column name \u001b[39m\u001b[38;5;124m'\u001b[39m\u001b[38;5;124mgeometry\u001b[39m\u001b[38;5;124m'\u001b[39m\u001b[38;5;124m.\u001b[39m\u001b[38;5;124m\"\u001b[39m\n\u001b[1;32m    166\u001b[0m         )\n\u001b[1;32m    168\u001b[0m     \u001b[38;5;66;03m# only if we have actual geometry values -> call set_geometry\u001b[39;00m\n\u001b[1;32m    169\u001b[0m     \u001b[38;5;28;01mtry\u001b[39;00m:\n",
      "\u001b[0;31mValueError\u001b[0m: GeoDataFrame does not support multiple columns using the geometry column name 'geometry'."
     ]
    }
   ],
   "source": [
    "western_mass_2021_dissolve = gpd.read_file('../results/csv/01_19_2024/dissolve_split/western_mass_2021_dissolve_split.csv', GEOM_POSSIBLE_NAMES=\"geometry\", KEEP_GEOM_COLUMNS=\"NO\")\n",
    "\n",
    "western_mass_2019_dissolve = gpd.read_file('../results/csv/01_19_2024/dissolve_split/western_mass_2019_dissolve_split.csv', GEOM_POSSIBLE_NAMES=\"geometry\", KEEP_GEOM_COLUMNS=\"NO\")\n",
    "\n",
    "eastern_mass_2021_dissolve = gpd.read_file('../results/csv/01_19_2024/dissolve_split/eastern_mass_2021_dissolve_split.csv', GEOM_POSSIBLE_NAMES=\"geometry\", KEEP_GEOM_COLUMNS=\"NO\")\n",
    "\n",
    "eastern_mass_2019_dissolve = gpd.read_file('../results/csv/01_19_2024/dissolve_split/eastern_mass_2019_dissolve_split.csv', GEOM_POSSIBLE_NAMES=\"geometry\", KEEP_GEOM_COLUMNS=\"NO\")"
   ]
  },
  {
   "cell_type": "code",
   "execution_count": 65,
   "id": "18038504-b28b-4e2e-8057-07f907cfdfac",
   "metadata": {},
   "outputs": [],
   "source": [
    "def export_complete_product(gdf, dissolve=False):\n",
    "    # List of columns to drop\n",
    "    columns_to_drop = ['intersection_points', 'intersecting_roads', 'non_intersecting_segments', 'road_geometry_buffer']\n",
    "    # Drop specified columns\n",
    "    gdf_filtered = gdf.drop(columns=columns_to_drop)\n",
    "    gdf_filtered = gdf_filtered[~((gdf_filtered['type'] == 'other') | (gdf_filtered['type'] == 'parking') | (gdf_filtered['category'] == 'fp'))]\n",
    "    file_name = f\"{gdf_filtered['source'].iloc[0]}_{gdf_filtered['year'].iloc[0]}\"\n",
    "    print(file_name)\n",
    "    if(dissolve):\n",
    "        road_type = 'dissolve'\n",
    "    else:\n",
    "        road_type = 'road_arc'\n",
    "    \n",
    "    # Specify the directory path\n",
    "    directory_path = f'../{road_type}/'\n",
    "\n",
    "    # Create the directory if it doesn't exist\n",
    "    os.makedirs(directory_path, exist_ok=True)\n",
    "    \n",
    "    complete_file_name = f\"{file_name}_{road_type}.gdb\"\n",
    "    # Set CRS to NAD 1983 MA State Plane system\n",
    "    print(gdf_filtered.crs)\n",
    "    if str.split(file_name,'_')[0] == 'western':\n",
    "        epsg_code = 'EPSG:6347'\n",
    "    else:\n",
    "        epsg_code = 'EPSG:6348'\n",
    "    #epsg_code = 'EPSG:4269' # NAD83\n",
    "    gdf_filtered = gdf_filtered.set_crs(epsg_code)    \n",
    "    gdf_filtered = gdf_filtered.to_crs(epsg_code)\n",
    "    gdf_filtered.to_file(os.path.join(directory_path, complete_file_name),layer=file_name+'_'+road_type, driver='OpenFileGDB')"
   ]
  },
  {
   "cell_type": "code",
   "execution_count": 66,
   "id": "a177c485-ae2d-49f2-8759-01df81314957",
   "metadata": {},
   "outputs": [
    {
     "name": "stdout",
     "output_type": "stream",
     "text": [
      "western_mass_2019\n",
      "None\n",
      "eastern_mass_2019\n",
      "None\n",
      "western_mass_2021\n",
      "None\n",
      "eastern_mass_2021\n",
      "None\n"
     ]
    }
   ],
   "source": [
    "dissolved_results = [western_mass_2019_dissolve, eastern_mass_2019_dissolve, western_mass_2021_dissolve, eastern_mass_2021_dissolve]\n",
    "for dr in dissolved_results:\n",
    "    export_complete_product(dr, True)"
   ]
  },
  {
   "cell_type": "code",
   "execution_count": 60,
   "id": "50049610-06bf-4ddf-8f35-b19206fc3612",
   "metadata": {},
   "outputs": [],
   "source": [
    "def filter_gdfs_project_4269(gdf, dissolve=False):\n",
    "    # List of columns to drop\n",
    "    columns_to_drop = ['intersection_points', 'intersecting_roads', 'non_intersecting_segments', 'road_geometry_buffer']\n",
    "    # Drop specified columns\n",
    "    gdf_filtered = gdf.drop(columns=columns_to_drop)\n",
    "    gdf_filtered = gdf_filtered[~((gdf_filtered['type'] == 'other') | (gdf_filtered['type'] == 'parking') | (gdf_filtered['category'] == 'fp'))]\n",
    "    print(gdf_filtered.crs)\n",
    "    file_name = f\"{gdf_filtered['source'].iloc[0]}_{gdf_filtered['year'].iloc[0]}\"\n",
    "    print(file_name)\n",
    "    if str.split(file_name,'_')[0] == 'western':\n",
    "        epsg_code = 'EPSG:6347' # Western MA state-plane coordinate system\n",
    "    else:\n",
    "        epsg_code = 'EPSG:6348'  # Eastern MA state-plane coordinate system   \n",
    "    gdf_filtered = gdf_filtered.set_crs(epsg_code)    \n",
    "    gdf_filtered = gdf_filtered.to_crs(epsg_code)   \n",
    "    epsg_code = 'EPSG:4269' # NAD83    \n",
    "    #gdf_filtered = gdf_filtered.set_crs(epsg_code)    \n",
    "    gdf_filtered = gdf_filtered.to_crs(epsg_code)\n",
    "    print(gdf_filtered.crs)\n",
    "    return gdf_filtered"
   ]
  },
  {
   "cell_type": "code",
   "execution_count": 61,
   "id": "e8b3b2f8-d7af-4f70-9c2e-c5c966e27d74",
   "metadata": {},
   "outputs": [
    {
     "name": "stdout",
     "output_type": "stream",
     "text": [
      "None\n",
      "western_mass_2019\n",
      "EPSG:4269\n",
      "None\n",
      "eastern_mass_2019\n",
      "EPSG:4269\n",
      "None\n",
      "western_mass_2021\n",
      "EPSG:4269\n",
      "None\n",
      "eastern_mass_2021\n",
      "EPSG:4269\n"
     ]
    }
   ],
   "source": [
    "wm19_4269 = filter_gdfs_project_4269(western_mass_2019_dissolve, True)\n",
    "em19_4269 = filter_gdfs_project_4269(eastern_mass_2019_dissolve, True)\n",
    "wm21_4269 = filter_gdfs_project_4269(western_mass_2021_dissolve, True)\n",
    "em21_4269 = filter_gdfs_project_4269(eastern_mass_2021_dissolve, True)"
   ]
  },
  {
   "cell_type": "code",
   "execution_count": 62,
   "id": "a21a47f9-3e75-42ad-b5a9-b092419e29c5",
   "metadata": {},
   "outputs": [],
   "source": [
    "def export_combined_gdf(gdflist, dissolve=False):\n",
    "    combined_results = pd.concat(gdflist, ignore_index=True)    \n",
    "    file_name = f\"combined_mass_{combined_results['year'].unique()[0]}\"\n",
    "    # Specify the directory path\n",
    "    if(dissolve):\n",
    "        road_type = 'dissolve'\n",
    "    else:\n",
    "        road_type = 'road_arc'    \n",
    "    directory_path = f'../results/layers/{road_type}/'\n",
    "\n",
    "    # Create the directory if it doesn't exist\n",
    "    os.makedirs(directory_path, exist_ok=True)\n",
    "    \n",
    "    complete_file_name = f\"{file_name}_{road_type}.gdb\"\n",
    "    # Set CRS to NAD 1983 MA State Plane system\n",
    "    print(combined_results.crs)\n",
    "\n",
    "    combined_results.to_file(os.path.join(directory_path, complete_file_name),layer=file_name+'_'+road_type, driver='OpenFileGDB')"
   ]
  },
  {
   "cell_type": "code",
   "execution_count": 63,
   "id": "c598b405-c456-4317-8833-6527c5a3a368",
   "metadata": {},
   "outputs": [
    {
     "name": "stdout",
     "output_type": "stream",
     "text": [
      "EPSG:4269\n"
     ]
    }
   ],
   "source": [
    "export_combined_gdf([wm19_4269,em19_4269], True)"
   ]
  },
  {
   "cell_type": "code",
   "execution_count": 64,
   "id": "89b8be8c-fae1-4738-b6c9-54a2cc2ab640",
   "metadata": {},
   "outputs": [
    {
     "name": "stdout",
     "output_type": "stream",
     "text": [
      "EPSG:4269\n"
     ]
    }
   ],
   "source": [
    "export_combined_gdf([wm21_4269,em21_4269], True)"
   ]
  }
 ],
 "metadata": {
  "kernelspec": {
   "display_name": "nars",
   "language": "python",
   "name": "nars"
  },
  "language_info": {
   "codemirror_mode": {
    "name": "ipython",
    "version": 3
   },
   "file_extension": ".py",
   "mimetype": "text/x-python",
   "name": "python",
   "nbconvert_exporter": "python",
   "pygments_lexer": "ipython3",
   "version": "3.11.6"
  }
 },
 "nbformat": 4,
 "nbformat_minor": 5
}
