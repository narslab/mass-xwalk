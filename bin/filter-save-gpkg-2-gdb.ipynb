{
 "cells": [
  {
   "cell_type": "code",
   "execution_count": 40,
   "id": "42951f52-a5d3-4ebf-8fda-589b0a1d0187",
   "metadata": {},
   "outputs": [],
   "source": [
    "from concurrent.futures import ProcessPoolExecutor\n",
    "from datetime import date, datetime, timedelta\n",
    "import time\n",
    "\n",
    "import geopandas as gpd\n",
    "import pandas as pd\n",
    "import os\n",
    "import numpy as np\n",
    "from tabulate import tabulate\n",
    "from prettytable import PrettyTable\n",
    "import fiona\n",
    "\n",
    "import matplotlib.pyplot as plt\n",
    "import seaborn as sns\n",
    "\n",
    "import rtree\n",
    "\n",
    "from PIL import Image\n",
    "\n",
    "import brewer2mpl\n",
    "\n",
    "import requests\n",
    "import zipfile\n",
    "\n",
    "from shapely.geometry import Point, Polygon, MultiPolygon, MultiLineString\n",
    "from shapely.ops import unary_union\n",
    "from shapely.wkt import loads\n",
    "import rasterio as rio\n",
    "import rasterio.mask\n",
    "from rasterio.plot import show\n",
    "from shapely.geometry import mapping\n",
    "from rasterio.transform import Affine\n"
   ]
  },
  {
   "cell_type": "code",
   "execution_count": 7,
   "id": "ba840a3e-f91b-455e-be2c-16f8d0064e1d",
   "metadata": {},
   "outputs": [],
   "source": [
    "wm19_count_final = gpd.read_file(\"../results/layers/mass_xwalk_combined_results.gpkg\", layer='western_mass_2019_dissolve')\n",
    "em19_count_final = gpd.read_file(\"../results/layers/mass_xwalk_combined_results.gpkg\", layer='eastern_mass_2019_dissolve')\n",
    "wm21_count_final = gpd.read_file(\"../results/layers/mass_xwalk_combined_results.gpkg\", layer='western_mass_2021_dissolve')\n",
    "em21_count_final = gpd.read_file(\"../results/layers/mass_xwalk_combined_results.gpkg\", layer='eastern_mass_2021_dissolve')"
   ]
  },
  {
   "cell_type": "code",
   "execution_count": 9,
   "id": "0fbd9ca5-0dc3-4672-aeb5-b5a84d2e4f9a",
   "metadata": {},
   "outputs": [],
   "source": [
    "# Drop rows where 'type' is 'other' or 'parking', or 'category' is 'fp'\n",
    "wm21_count_final_filtered = wm21_count_final[~((wm21_count_final['type'] == 'other') | (wm21_count_final['type'] == 'parking') | (wm21_count_final['category'] == 'fp'))]\n",
    "wm19_count_final_filtered = wm19_count_final[~((wm19_count_final['type'] == 'other') | (wm19_count_final['type'] == 'parking') | (wm19_count_final['category'] == 'fp'))]\n",
    "em21_count_final_filtered = em21_count_final[~((em21_count_final['type'] == 'other') | (em21_count_final['type'] == 'parking') | (em21_count_final['category'] == 'fp'))]\n",
    "em19_count_final_filtered = em19_count_final[~((em19_count_final['type'] == 'other') | (em19_count_final['type'] == 'parking') | (em19_count_final['category'] == 'fp'))]"
   ]
  },
  {
   "cell_type": "code",
   "execution_count": 11,
   "id": "0a5ea414-f7f3-4c3b-ba4c-64b38caa087b",
   "metadata": {},
   "outputs": [
    {
     "data": {
      "text/plain": [
       "35271"
      ]
     },
     "execution_count": 11,
     "metadata": {},
     "output_type": "execute_result"
    }
   ],
   "source": [
    "len(wm21_count_final)"
   ]
  },
  {
   "cell_type": "code",
   "execution_count": 14,
   "id": "0e09288a-93fb-4a93-a1c0-c856c89ac551",
   "metadata": {},
   "outputs": [],
   "source": [
    "wm21_count_final_filtered = wm21_count_final_filtered.to_crs(epsg=26986)\n",
    "wm19_count_final_filtered = wm19_count_final_filtered.to_crs(epsg=26986)\n",
    "em21_count_final_filtered = em21_count_final_filtered.to_crs(epsg=26986)\n",
    "em19_count_final_filtered = em19_count_final_filtered.to_crs(epsg=26986)"
   ]
  },
  {
   "cell_type": "code",
   "execution_count": 50,
   "id": "3d26d805-f0f9-413e-a2e3-034169fb729b",
   "metadata": {},
   "outputs": [
    {
     "data": {
      "text/plain": [
       "<Projected CRS: EPSG:2249>\n",
       "Name: NAD83 / Massachusetts Mainland (ftUS)\n",
       "Axis Info [cartesian]:\n",
       "- X[east]: Easting (US survey foot)\n",
       "- Y[north]: Northing (US survey foot)\n",
       "Area of Use:\n",
       "- name: United States (USA) - Massachusetts onshore - counties of Barnstable; Berkshire; Bristol; Essex; Franklin; Hampden; Hampshire; Middlesex; Norfolk; Plymouth; Suffolk; Worcester.\n",
       "- bounds: (-73.5, 41.46, -69.86, 42.89)\n",
       "Coordinate Operation:\n",
       "- name: SPCS83 Massachusetts Mainland zone (US Survey feet)\n",
       "- method: Lambert Conic Conformal (2SP)\n",
       "Datum: North American Datum 1983\n",
       "- Ellipsoid: GRS 1980\n",
       "- Prime Meridian: Greenwich"
      ]
     },
     "execution_count": 50,
     "metadata": {},
     "output_type": "execute_result"
    }
   ],
   "source": [
    "em21_count_final.crs"
   ]
  },
  {
   "cell_type": "code",
   "execution_count": 49,
   "id": "9bfc293b-6777-4a02-94a2-71642d8b979a",
   "metadata": {},
   "outputs": [
    {
     "data": {
      "text/plain": [
       "<Projected CRS: EPSG:2249>\n",
       "Name: NAD83 / Massachusetts Mainland (ftUS)\n",
       "Axis Info [cartesian]:\n",
       "- X[east]: Easting (US survey foot)\n",
       "- Y[north]: Northing (US survey foot)\n",
       "Area of Use:\n",
       "- name: United States (USA) - Massachusetts onshore - counties of Barnstable; Berkshire; Bristol; Essex; Franklin; Hampden; Hampshire; Middlesex; Norfolk; Plymouth; Suffolk; Worcester.\n",
       "- bounds: (-73.5, 41.46, -69.86, 42.89)\n",
       "Coordinate Operation:\n",
       "- name: SPCS83 Massachusetts Mainland zone (US Survey feet)\n",
       "- method: Lambert Conic Conformal (2SP)\n",
       "Datum: North American Datum 1983\n",
       "- Ellipsoid: GRS 1980\n",
       "- Prime Meridian: Greenwich"
      ]
     },
     "execution_count": 49,
     "metadata": {},
     "output_type": "execute_result"
    }
   ],
   "source": [
    "wm21_count_final.crs"
   ]
  },
  {
   "cell_type": "code",
   "execution_count": 43,
   "id": "396d8c5d-8d83-4db5-b0e4-d0fe84a4fe5e",
   "metadata": {},
   "outputs": [
    {
     "data": {
      "text/plain": [
       "{'DXF': 'rw',\n",
       " 'CSV': 'raw',\n",
       " 'OpenFileGDB': 'raw',\n",
       " 'ESRIJSON': 'r',\n",
       " 'ESRI Shapefile': 'raw',\n",
       " 'FlatGeobuf': 'raw',\n",
       " 'GeoJSON': 'raw',\n",
       " 'GeoJSONSeq': 'raw',\n",
       " 'GPKG': 'raw',\n",
       " 'GML': 'rw',\n",
       " 'OGR_GMT': 'rw',\n",
       " 'GPX': 'rw',\n",
       " 'MapInfo File': 'raw',\n",
       " 'DGN': 'raw',\n",
       " 'S57': 'r',\n",
       " 'SQLite': 'raw',\n",
       " 'TopoJSON': 'r'}"
      ]
     },
     "execution_count": 43,
     "metadata": {},
     "output_type": "execute_result"
    }
   ],
   "source": [
    "fiona.supported_drivers"
   ]
  },
  {
   "cell_type": "code",
   "execution_count": 53,
   "id": "d6bf296f-b259-4811-81a7-700649fce24d",
   "metadata": {},
   "outputs": [],
   "source": [
    "wm21_count_final_filtered.to_file(\"../results/layers/western_mass_2021_filtered.gdb\", layer=\"western_mass_2021_filtered\", driver=\"OpenFileGDB\")\n",
    "em21_count_final_filtered.to_file(\"../results/layers/eastern_mass_2021_filtered.gdb\", layer=\"eastern_mass_2021_filtered\", driver=\"OpenFileGDB\")\n",
    "wm19_count_final_filtered.to_file(\"../results/layers/western_mass_2019_filtered.gdb\", layer=\"western_mass_2019_filtered\", driver=\"OpenFileGDB\")\n",
    "em19_count_final_filtered.to_file(\"../results/layers/eastern_mass_2019_filtered.gdb\", layer=\"eastern_mass_2019_filtered\", driver=\"OpenFileGDB\")"
   ]
  }
 ],
 "metadata": {
  "kernelspec": {
   "display_name": "nars",
   "language": "python",
   "name": "nars"
  },
  "language_info": {
   "codemirror_mode": {
    "name": "ipython",
    "version": 3
   },
   "file_extension": ".py",
   "mimetype": "text/x-python",
   "name": "python",
   "nbconvert_exporter": "python",
   "pygments_lexer": "ipython3",
   "version": "3.11.6"
  }
 },
 "nbformat": 4,
 "nbformat_minor": 5
}
